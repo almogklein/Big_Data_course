{
  "nbformat": 4,
  "nbformat_minor": 0,
  "metadata": {
    "colab": {
      "name": "Consumer2.ipynb",
      "provenance": []
    },
    "kernelspec": {
      "name": "python3",
      "display_name": "Python 3"
    },
    "language_info": {
      "name": "python"
    }
  },
  "cells": [
    {
      "cell_type": "code",
      "execution_count": null,
      "metadata": {
        "id": "b4UjS_J0tNfU"
      },
      "outputs": [],
      "source": [
        "from confluent_kafka import Producer, Consumer\n",
        "\n",
        "#code for the Consumer - consuming the predictions\n",
        "conf = {'bootstrap.servers': \"localhost:9092\",\n",
        "        'group.id': \"foo\",\n",
        "        'auto.offset.reset': 'smallest'}\n",
        "\n",
        "C2 = Consumer(conf)\n",
        "\n",
        "running2 = True\n",
        "\n",
        "def basic_consume_loop1(consumer, topics):\n",
        "    try:\n",
        "        consumer.subscribe(topics)\n",
        "\n",
        "        while running2:\n",
        "            msg = consumer.poll(timeout=10.0)\n",
        "            if msg is None: continue\n",
        "\n",
        "            if msg.error():\n",
        "                if msg.error().code() == KafkaError._PARTITION_EOF:\n",
        "                    # End of partition event\n",
        "                    sys.stderr.write('%% %s [%d] reached end at offset %d\\n' %\n",
        "                                     (msg.topic(), msg.partition(), msg.offset()))\n",
        "                elif msg.error():\n",
        "                    raise KafkaException(msg.error())\n",
        "            else:\n",
        "                print(\"got new msg\")\n",
        "                print(msg.value().decode('utf-8'))\n",
        "                m2 = msg.value().decode('utf-8').split(\" \")\n",
        "                if(m2[0] == \"prediction\"):                    \n",
        "                    print('====New Prediction for====')\n",
        "                    print(msg.value().decode('utf-8'))\n",
        "                    print('=============')\n",
        "                else:\n",
        "                    print(\"not a prediction\")\n",
        "                    \n",
        "    \n",
        "    finally:\n",
        "        # Close down consumer to commit final offsets.\n",
        "        consumer.close()\n",
        "\n",
        "def shutdown():\n",
        "    running1 = False"
      ]
    },
    {
      "cell_type": "code",
      "source": [
        "basic_consume_loop(C2, ['2a']) "
      ],
      "metadata": {
        "id": "rchGSjYLtSAp"
      },
      "execution_count": null,
      "outputs": []
    }
  ]
}