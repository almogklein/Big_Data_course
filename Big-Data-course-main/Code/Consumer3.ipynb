{
  "nbformat": 4,
  "nbformat_minor": 0,
  "metadata": {
    "colab": {
      "name": "Consumer3.ipynb",
      "provenance": []
    },
    "kernelspec": {
      "name": "python3",
      "display_name": "Python 3"
    },
    "language_info": {
      "name": "python"
    }
  },
  "cells": [
    {
      "cell_type": "code",
      "execution_count": null,
      "metadata": {
        "id": "PwHgtf8nuJSJ"
      },
      "outputs": [],
      "source": [
        "from confluent_kafka import Producer, Consumer\n",
        "\n",
        "#code for the Consumer - consuming the predictions\n",
        "conf = {'bootstrap.servers': \"localhost:9092\",\n",
        "        'group.id': \"foo\",\n",
        "        'auto.offset.reset': 'smallest'}\n",
        "\n",
        "C3 = Consumer(conf)\n",
        "\n",
        "running3 = True\n",
        "\n",
        "def basic_consume_loop3(consumer, topics):\n",
        "    try:\n",
        "        consumer.subscribe(topics)\n",
        "\n",
        "        while running3:\n",
        "            msg = consumer.poll(timeout=10.0)\n",
        "            if msg is None: continue\n",
        "\n",
        "            if msg.error():\n",
        "                if msg.error().code() == KafkaError._PARTITION_EOF:\n",
        "                    # End of partition event\n",
        "                    sys.stderr.write('%% %s [%d] reached end at offset %d\\n' %\n",
        "                                     (msg.topic(), msg.partition(), msg.offset()))\n",
        "                elif msg.error():\n",
        "                    raise KafkaException(msg.error())\n",
        "            else:\n",
        "                print(\"got new msg\")\n",
        "                print(msg.value().decode('utf-8'))\n",
        "                m2 = msg.value().decode('utf-8').split(\" \")\n",
        "                if(m2[0] == \"prediction\"):                    \n",
        "                    print('====New Prediction for====')\n",
        "                    print(msg.value().decode('utf-8'))\n",
        "                    print('=============')\n",
        "                else:\n",
        "                    print(\"not a prediction\")\n",
        "                    \n",
        "    \n",
        "    finally:\n",
        "        # Close down consumer to commit final offsets.\n",
        "        consumer.close()\n",
        "\n",
        "def shutdown():\n",
        "    running1 = False"
      ]
    },
    {
      "cell_type": "code",
      "source": [
        "basic_consume_loop3(C3, ['3a']) "
      ],
      "metadata": {
        "id": "SrrHAcm8uMwQ"
      },
      "execution_count": null,
      "outputs": []
    }
  ]
}